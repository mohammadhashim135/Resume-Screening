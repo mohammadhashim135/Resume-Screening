{
 "cells": [
  {
   "cell_type": "markdown",
   "metadata": {},
   "source": [
    "# Dummy Data Creation"
   ]
  },
  {
   "cell_type": "code",
   "execution_count": 12,
   "metadata": {},
   "outputs": [
    {
     "data": {
      "text/plain": [
       "(['f:\\\\ML\\\\Projects\\\\Resume-Screening\\\\dummy\\\\r1.pdf',\n",
       "  'f:\\\\ML\\\\Projects\\\\Resume-Screening\\\\dummy\\\\r2.pdf',\n",
       "  'f:\\\\ML\\\\Projects\\\\Resume-Screening\\\\dummy\\\\r3.pdf'],\n",
       " ['f:\\\\ML\\\\Projects\\\\Resume-Screening\\\\dummy\\\\r1.docx',\n",
       "  'f:\\\\ML\\\\Projects\\\\Resume-Screening\\\\dummy\\\\r2.docx',\n",
       "  'f:\\\\ML\\\\Projects\\\\Resume-Screening\\\\dummy\\\\r3.docx'])"
      ]
     },
     "execution_count": 12,
     "metadata": {},
     "output_type": "execute_result"
    }
   ],
   "source": [
    "import os\n",
    "from fpdf import FPDF\n",
    "from docx import Document\n",
    "\n",
    "d=os.path.join(os.getcwd(),\"dummy\")\n",
    "os.makedirs(d,exist_ok=True)\n",
    "\n",
    "dt=[\n",
    "    {\"n\":\"Mohammad Hashim\",\"e\":\"hashimmohammad1375.@gmail.com\",\"p\":\"+91-9876543210\",\"s\":\"Python, ML, TensorFlow, NLP\",\"x\":\"AI/ML Engineer at Microsoft (2y)\",\"u\":\"B.Tech, IIT Bombay\"},\n",
    "    {\"n\":\"Akshu\",\"e\":\"akshu.g@email.com\",\"p\":\"+91-9123456789\",\"s\":\"Java, Spring Boot, Microservices, AWS\",\"x\":\"Software Eng at ABC (3y)\",\"u\":\"B.Tech, BIts Pilani\"},\n",
    "    {\"n\":\"Kanak\",\"e\":\"kanak.k@email.com\",\"p\":\"+91-8765432109\",\"s\":\"React, Node.js, MongoDB, Docker\",\"x\":\"Full Stack Dev at DEF (4y)\",\"u\":\"B.Tech, NIT Tiruchirappalli\"},\n",
    "]\n",
    "\n",
    "def cpdf(r,f):\n",
    "    p=FPDF()\n",
    "    p.set_auto_page_break(auto=True,margin=15)\n",
    "    p.add_page()\n",
    "    p.set_font(\"Arial\",size=12)\n",
    "    p.cell(200,10,txt=\"Resume\",ln=True,align=\"C\")\n",
    "    p.ln(10)\n",
    "    for k,v in r.items():\n",
    "        p.cell(200,10,txt=f\"{k}: {v}\",ln=True)\n",
    "    p.output(f)\n",
    "\n",
    "def cdocx(r,f):\n",
    "    dc=Document()\n",
    "    dc.add_heading(\"Resume\",level=1)\n",
    "    for k,v in r.items():\n",
    "        dc.add_paragraph(f\"{k}: {v}\")\n",
    "    dc.save(f)\n",
    "\n",
    "pdfs,docs=[],[]\n",
    "for i,r in enumerate(dt):\n",
    "    fpdf=os.path.join(d,f\"r{i+1}.pdf\")\n",
    "    fdocx=os.path.join(d,f\"r{i+1}.docx\")\n",
    "    cpdf(r,fpdf)\n",
    "    cdocx(r,fdocx)\n",
    "    pdfs.append(fpdf)\n",
    "    docs.append(fdocx)\n",
    "\n",
    "pdfs,docs\n"
   ]
  },
  {
   "cell_type": "markdown",
   "metadata": {},
   "source": [
    "## Extracting Text from PDF & Docx"
   ]
  },
  {
   "cell_type": "code",
   "execution_count": 13,
   "metadata": {},
   "outputs": [
    {
     "name": "stdout",
     "output_type": "stream",
     "text": [
      "Extracted Text from r1.docx:\n",
      "Resume\n",
      "n: Mohammad Hashim\n",
      "e: hashimmohammad1375.@gmail.com\n",
      "p: +91-9876543210\n",
      "s: Python, ML, TensorFlow, NLP\n",
      "x: AI/ML Engineer at Microsoft (2y)\n",
      "u: B.Tech, IIT Bombay\n",
      "==================================================\n",
      "\n",
      "Extracted Text from r1.pdf:\n",
      "Resume\n",
      "n: Mohammad Hashim\n",
      "e: hashimmohammad1375.@gmail.com\n",
      "p: +91-9876543210\n",
      "s: Python, ML, TensorFlow, NLP\n",
      "x: AI/ML Engineer at Microsoft (2y)\n",
      "u: B.Tech, IIT Bombay\n",
      "==================================================\n",
      "\n",
      "Extracted Text from r2.docx:\n",
      "Resume\n",
      "n: Akshu\n",
      "e: akshu.g@email.com\n",
      "p: +91-9123456789\n",
      "s: Java, Spring Boot, Microservices, AWS\n",
      "x: Software Eng at ABC (3y)\n",
      "u: B.Tech, BIts Pilani\n",
      "==================================================\n",
      "\n",
      "Extracted Text from r2.pdf:\n",
      "Resume\n",
      "n: Akshu\n",
      "e: akshu.g@email.com\n",
      "p: +91-9123456789\n",
      "s: Java, Spring Boot, Microservices, AWS\n",
      "x: Software Eng at ABC (3y)\n",
      "u: B.Tech, BIts Pilani\n",
      "==================================================\n",
      "\n",
      "Extracted Text from r3.docx:\n",
      "Resume\n",
      "n: Kanak\n",
      "e: kanak.k@email.com\n",
      "p: +91-8765432109\n",
      "s: React, Node.js, MongoDB, Docker\n",
      "x: Full Stack Dev at DEF (4y)\n",
      "u: B.Tech, NIT Tiruchirappalli\n",
      "==================================================\n",
      "\n",
      "Extracted Text from r3.pdf:\n",
      "Resume\n",
      "n: Kanak\n",
      "e: kanak.k@email.com\n",
      "p: +91-8765432109\n",
      "s: React, Node.js, MongoDB, Docker\n",
      "x: Full Stack Dev at DEF (4y)\n",
      "u: B.Tech, NIT Tiruchirappalli\n",
      "==================================================\n",
      "\n"
     ]
    }
   ],
   "source": [
    "import os\n",
    "import fitz  \n",
    "from docx import Document\n",
    "\n",
    "def extract_text_from_pdf(pdf_path):\n",
    "    text = \"\"\n",
    "    with fitz.open(pdf_path) as doc:\n",
    "        for page in doc:\n",
    "            text += page.get_text() + \"\\n\"\n",
    "    return text.strip()\n",
    "\n",
    "def extract_text_from_docx(docx_path):\n",
    "    doc = Document(docx_path)\n",
    "    return \"\\n\".join([para.text for para in doc.paragraphs]).strip()\n",
    "\n",
    "resume_texts = {}\n",
    "resume_folder = \"dummy\"\n",
    "\n",
    "for file in os.listdir(resume_folder):\n",
    "    file_path = os.path.join(resume_folder, file)\n",
    "    if file.endswith(\".pdf\"):\n",
    "        resume_texts[file] = extract_text_from_pdf(file_path)\n",
    "    elif file.endswith(\".docx\"):\n",
    "        resume_texts[file] = extract_text_from_docx(file_path)\n",
    "\n",
    "for file, text in resume_texts.items():\n",
    "    print(f\"Extracted Text from {file}:\\n{text}\\n{'='*50}\\n\")\n"
   ]
  },
  {
   "cell_type": "markdown",
   "metadata": {},
   "source": [
    "## Processing Text"
   ]
  },
  {
   "cell_type": "code",
   "execution_count": 26,
   "metadata": {},
   "outputs": [
    {
     "name": "stdout",
     "output_type": "stream",
     "text": [
      "Processed text from dummy/r1.pdf:\n",
      "resume n mohammad hashim e hashimmohammad1375gmailcom p 919876543210 s python ml tensorflow nlp x aiml engineer at microsoft 2y u btech iit bombay...\n",
      "\n",
      "Processed text from dummy/r2.pdf:\n",
      "resume n akshu e akshugemailcom p 919123456789 s java spring boot microservices aws x software eng at abc 3y u btech bits pilani...\n",
      "\n",
      "Processed text from dummy/r3.pdf:\n",
      "resume n kanak e kanakkemailcom p 918765432109 s react nodejs mongodb docker x full stack dev at def 4y u btech nit tiruchirappalli...\n",
      "\n"
     ]
    }
   ],
   "source": [
    "import fitz  \n",
    "import os\n",
    "import re\n",
    "\n",
    "def extract_text_from_pdf(pdf_path):\n",
    "    text = \"\"\n",
    "    try:\n",
    "        with fitz.open(pdf_path) as doc:\n",
    "            for page in doc:\n",
    "                text += page.get_text() + \"\\n\"\n",
    "    except Exception as e:\n",
    "        print(f\"Error reading {pdf_path}: {e}\")\n",
    "    return text.strip()\n",
    "\n",
    "def preprocess_text(text):\n",
    "    text = text.lower()\n",
    "    text = re.sub(r'\\s+', ' ', text)\n",
    "    text = re.sub(r'[^a-z0-9\\s]', '', text)\n",
    "    return text.strip()\n",
    "\n",
    "resume_folder = \"dummy/\"\n",
    "\n",
    "pdfs = [os.path.join(resume_folder, file) for file in os.listdir(resume_folder) if file.endswith(\".pdf\")]\n",
    "\n",
    "resume_texts = {pdf: extract_text_from_pdf(pdf) for pdf in pdfs}\n",
    "preprocessed_resumes = {file: preprocess_text(text) for file, text in resume_texts.items()}\n",
    "\n",
    "for file, text in preprocessed_resumes.items():\n",
    "    print(f\"Processed text from {file}:\\n{text[:500]}...\\n\")"
   ]
  }
 ],
 "metadata": {
  "kernelspec": {
   "display_name": "Python 3",
   "language": "python",
   "name": "python3"
  },
  "language_info": {
   "codemirror_mode": {
    "name": "ipython",
    "version": 3
   },
   "file_extension": ".py",
   "mimetype": "text/x-python",
   "name": "python",
   "nbconvert_exporter": "python",
   "pygments_lexer": "ipython3",
   "version": "3.12.1"
  }
 },
 "nbformat": 4,
 "nbformat_minor": 2
}
