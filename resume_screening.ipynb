{
 "cells": [
  {
   "cell_type": "markdown",
   "metadata": {},
   "source": [
    "# Dummy Data Creation"
   ]
  },
  {
   "cell_type": "code",
   "execution_count": 3,
   "metadata": {},
   "outputs": [
    {
     "data": {
      "text/plain": [
       "(['f:\\\\ML\\\\Projects\\\\Resume-Screening\\\\dummy\\\\r1.pdf',\n",
       "  'f:\\\\ML\\\\Projects\\\\Resume-Screening\\\\dummy\\\\r2.pdf',\n",
       "  'f:\\\\ML\\\\Projects\\\\Resume-Screening\\\\dummy\\\\r3.pdf'],\n",
       " ['f:\\\\ML\\\\Projects\\\\Resume-Screening\\\\dummy\\\\r1.docx',\n",
       "  'f:\\\\ML\\\\Projects\\\\Resume-Screening\\\\dummy\\\\r2.docx',\n",
       "  'f:\\\\ML\\\\Projects\\\\Resume-Screening\\\\dummy\\\\r3.docx'])"
      ]
     },
     "execution_count": 3,
     "metadata": {},
     "output_type": "execute_result"
    }
   ],
   "source": [
    "import os\n",
    "from fpdf import FPDF\n",
    "from docx import Document\n",
    "\n",
    "d=os.path.join(os.getcwd(),\"dummy\")\n",
    "os.makedirs(d,exist_ok=True)\n",
    "\n",
    "dt=[\n",
    "    {\"n\":\"Mohammad Hashim\",\"e\":\"hashimmohammad1375.@gmail.com\",\"p\":\"+91-9876543210\",\"s\":\"Python, ML, TensorFlow, NLP\",\"x\":\"AI/ML Engineer at Microsoft (2y)\",\"u\":\"B.Tech, IIT Bombay\"},\n",
    "    {\"n\":\"Akshu\",\"e\":\"akshu.g@email.com\",\"p\":\"+91-9123456789\",\"s\":\"Java, Spring Boot, Microservices, AWS\",\"x\":\"Software Eng at ABC (3y)\",\"u\":\"B.Tech, BIts Pilani\"},\n",
    "    {\"n\":\"Kanak\",\"e\":\"kanak.k@email.com\",\"p\":\"+91-8765432109\",\"s\":\"React, Node.js, MongoDB, Docker\",\"x\":\"Full Stack Dev at DEF (4y)\",\"u\":\"B.Tech, NIT Tiruchirappalli\"},\n",
    "]\n",
    "\n",
    "def cpdf(r,f):\n",
    "    p=FPDF()\n",
    "    p.set_auto_page_break(auto=True,margin=15)\n",
    "    p.add_page()\n",
    "    p.set_font(\"Arial\",size=12)\n",
    "    p.cell(200,10,txt=\"Resume\",ln=True,align=\"C\")\n",
    "    p.ln(10)\n",
    "    for k,v in r.items():\n",
    "        p.cell(200,10,txt=f\"{k}: {v}\",ln=True)\n",
    "    p.output(f)\n",
    "\n",
    "def cdocx(r,f):\n",
    "    dc=Document()\n",
    "    dc.add_heading(\"Resume\",level=1)\n",
    "    for k,v in r.items():\n",
    "        dc.add_paragraph(f\"{k}: {v}\")\n",
    "    dc.save(f)\n",
    "\n",
    "pdfs,docs=[],[]\n",
    "for i,r in enumerate(dt):\n",
    "    fpdf=os.path.join(d,f\"r{i+1}.pdf\")\n",
    "    fdocx=os.path.join(d,f\"r{i+1}.docx\")\n",
    "    cpdf(r,fpdf)\n",
    "    cdocx(r,fdocx)\n",
    "    pdfs.append(fpdf)\n",
    "    docs.append(fdocx)\n",
    "\n",
    "pdfs,docs\n"
   ]
  },
  {
   "cell_type": "markdown",
   "metadata": {},
   "source": [
    "## Extracting Text from PDF & Docx"
   ]
  },
  {
   "cell_type": "code",
   "execution_count": 4,
   "metadata": {},
   "outputs": [
    {
     "name": "stdout",
     "output_type": "stream",
     "text": [
      "Resume\n",
      "n: Mohammad Hashim\n",
      "e: hashimmohammad1375.@gmail.com\n",
      "p: +91-9876543210\n",
      "s: Python, ML, TensorFlow, NLP\n",
      "x: AI/ML Engineer at Microsoft (2y)\n",
      "u: B.Tech, IIT Bombay\n",
      "\n",
      "\n"
     ]
    }
   ],
   "source": [
    "import fitz  \n",
    "\n",
    "def extract_text_from_pdf(pdf_path):\n",
    "    text = \"\"\n",
    "    with fitz.open(pdf_path) as doc:\n",
    "        for page in doc:\n",
    "            text += page.get_text() + \"\\n\"\n",
    "    return text\n",
    "\n",
    "pdf_text = extract_text_from_pdf(\"dummy/r1.pdf\")\n",
    "print(pdf_text)\n"
   ]
  },
  {
   "cell_type": "code",
   "execution_count": 5,
   "metadata": {},
   "outputs": [
    {
     "name": "stdout",
     "output_type": "stream",
     "text": [
      "Resume\n",
      "n: Mohammad Hashim\n",
      "e: hashimmohammad1375.@gmail.com\n",
      "p: +91-9876543210\n",
      "s: Python, ML, TensorFlow, NLP\n",
      "x: AI/ML Engineer at Microsoft (2y)\n",
      "u: B.Tech, IIT Bombay\n"
     ]
    }
   ],
   "source": [
    "from docx import Document\n",
    "\n",
    "def extract_text_from_docx(docx_path):\n",
    "    doc = Document(docx_path)\n",
    "    text = \"\\n\".join([para.text for para in doc.paragraphs])\n",
    "    return text\n",
    "\n",
    "\n",
    "doc_text = extract_text_from_docx(\"dummy/r1.docx\")\n",
    "print(doc_text)\n"
   ]
  }
 ],
 "metadata": {
  "kernelspec": {
   "display_name": "Python 3",
   "language": "python",
   "name": "python3"
  },
  "language_info": {
   "codemirror_mode": {
    "name": "ipython",
    "version": 3
   },
   "file_extension": ".py",
   "mimetype": "text/x-python",
   "name": "python",
   "nbconvert_exporter": "python",
   "pygments_lexer": "ipython3",
   "version": "3.12.1"
  }
 },
 "nbformat": 4,
 "nbformat_minor": 2
}
